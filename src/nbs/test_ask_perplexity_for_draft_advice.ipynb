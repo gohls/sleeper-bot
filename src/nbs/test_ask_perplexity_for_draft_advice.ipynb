{
 "cells": [
  {
   "cell_type": "code",
   "execution_count": 1,
   "id": "d1c46ee9-ac08-4df6-8dba-e36ff0008bd8",
   "metadata": {},
   "outputs": [],
   "source": [
    "import setup"
   ]
  },
  {
   "cell_type": "code",
   "execution_count": 2,
   "id": "cc67d9a2-1724-46ff-a5b6-f7bc6a23449d",
   "metadata": {},
   "outputs": [],
   "source": [
    "import json"
   ]
  },
  {
   "cell_type": "code",
   "execution_count": 3,
   "id": "91aab0ba-f811-43ab-b783-27834387bd54",
   "metadata": {},
   "outputs": [],
   "source": [
    "import requests"
   ]
  },
  {
   "cell_type": "code",
   "execution_count": 4,
   "id": "f7a5d3de-1034-4674-9be5-9faea7a0da3d",
   "metadata": {},
   "outputs": [],
   "source": [
    "from django.db.models import Q"
   ]
  },
  {
   "cell_type": "code",
   "execution_count": 5,
   "id": "948124a6-adad-46a3-bf13-e0aee3fc79b9",
   "metadata": {},
   "outputs": [],
   "source": [
    "from django.forms import model_to_dict"
   ]
  },
  {
   "cell_type": "code",
   "execution_count": 6,
   "id": "358f7ed1-f523-4036-96b6-5520d3e8f161",
   "metadata": {},
   "outputs": [],
   "source": [
    "setup.init_django(project_name='app')"
   ]
  },
  {
   "cell_type": "code",
   "execution_count": 7,
   "id": "e1d2e8ec-81fd-4648-8b5a-65bf1b2b7188",
   "metadata": {},
   "outputs": [],
   "source": [
    "from services.perplexity.client import ask_perplexity_for_draft_advice"
   ]
  },
  {
   "cell_type": "code",
   "execution_count": 8,
   "id": "839403d7-2d9d-4d24-92d5-e026af4db173",
   "metadata": {},
   "outputs": [],
   "source": [
    "from services.sleeper.utils import *"
   ]
  },
  {
   "cell_type": "code",
   "execution_count": 9,
   "id": "ce210959-acc7-4c0f-9137-69c10cebd2dd",
   "metadata": {},
   "outputs": [],
   "source": [
    "from sleeper_bot.models import Player"
   ]
  },
  {
   "cell_type": "code",
   "execution_count": 10,
   "id": "8a5bde63-941f-4307-bace-7ca4122b4ceb",
   "metadata": {},
   "outputs": [],
   "source": [
    "SLEEPER_API_BASE_URL = 'https://api.sleeper.app/v1'"
   ]
  },
  {
   "cell_type": "code",
   "execution_count": 11,
   "id": "df3de9ff-374b-4d90-a89f-790a5eb6dce3",
   "metadata": {},
   "outputs": [],
   "source": [
    "DRAFT_ID = '1131623077649801216'"
   ]
  },
  {
   "cell_type": "code",
   "execution_count": 12,
   "id": "3bfbc0d1-4382-49ae-bac3-7e6248ff35d7",
   "metadata": {},
   "outputs": [],
   "source": [
    "def fetch_data(endpoint, **kwargs):\n",
    "    url = f\"{SLEEPER_API_BASE_URL}{endpoint.format(**kwargs)}\"\n",
    "    response = requests.get(url)\n",
    "    response.raise_for_status()\n",
    "    return response.json()"
   ]
  },
  {
   "cell_type": "code",
   "execution_count": 13,
   "id": "ce9c1470-ac74-4340-a7f1-03a4264898ae",
   "metadata": {},
   "outputs": [],
   "source": [
    "def get_draft_picks():\n",
    "    return fetch_data(\"/draft/{draft_id}/picks\", draft_id=DRAFT_ID)"
   ]
  },
  {
   "cell_type": "code",
   "execution_count": 14,
   "id": "b992e067-39ed-4358-b393-1ee758a7713c",
   "metadata": {},
   "outputs": [],
   "source": [
    "draft_picks = get_draft_picks()\n",
    "last_pick_no = max(pick['pick_no'] for pick in draft_picks) if draft_picks else 0\n",
    "\n",
    "on_roster = positions_on_roster(draft_picks)\n",
    "needed_positions = position_roster_needs(on_roster)"
   ]
  },
  {
   "cell_type": "code",
   "execution_count": 15,
   "id": "cac9f6f8-4624-440f-828c-fdbaa6d6a15b",
   "metadata": {},
   "outputs": [
    {
     "name": "stdout",
     "output_type": "stream",
     "text": [
      "['WR', 'TE', 'K']\n"
     ]
    }
   ],
   "source": [
    "print(needed_positions)"
   ]
  },
  {
   "cell_type": "code",
   "execution_count": 16,
   "id": "119b0959-1dc5-4208-ad33-9f0eeac3824f",
   "metadata": {},
   "outputs": [],
   "source": [
    "required_positions = set()\n",
    "for position in needed_positions:\n",
    "    if position == 'FLEX':\n",
    "        required_positions.update(['RB', 'WR', 'TE']) # This is wrong\n",
    "    elif position != 'BN':\n",
    "        required_positions.add(position)"
   ]
  },
  {
   "cell_type": "code",
   "execution_count": 17,
   "id": "945e90e2-012d-4936-ae26-9a109d449d57",
   "metadata": {},
   "outputs": [
    {
     "name": "stdout",
     "output_type": "stream",
     "text": [
      "{'WR', 'K', 'TE'}\n"
     ]
    }
   ],
   "source": [
    "print(required_positions)"
   ]
  },
  {
   "cell_type": "code",
   "execution_count": 18,
   "id": "760e7f8e-f587-4374-a659-c521a30e14c0",
   "metadata": {},
   "outputs": [],
   "source": [
    "def get_drafted_player_ids_2(draft_picks):\n",
    "    return [pick['player_id'] for pick in draft_picks]"
   ]
  },
  {
   "cell_type": "code",
   "execution_count": 19,
   "id": "5671d301-8644-44c6-91a2-01b8b8727cf9",
   "metadata": {},
   "outputs": [
    {
     "name": "stdout",
     "output_type": "stream",
     "text": [
      "['6786', '4034', '7547', '3321', '6794', '7564', '8155', '9509', '5859', '8146', '9221', '8150', '6813', '9493', '4866', '11628', '2133', '8112', '3198', '8144', '1466', '7543', '9226', '10859', '5850', '4984', '6803', '8205', '2449', '2216', '6904', '7569', '5872', '7526', '4046', '4881', '4983', '5846', '4039', '8138', '6819', '8136', '11632', '4035', '5012', '8130', '4018', '9758', '7525', '8151', '9997', '8137', '6770', '4217', '10236', '9229', '2309', '4137', '5849', '6790', '7611', '4199', '7553', '4066', '5892', '6801', '4950', '10229', '1479', '4037', '9502', '5927', '7528', '11624', '10222', '11620', '9756', '8139', '5967', '2749', '4988', '4981', '5937', '6845', '5848', '7588', '1426', '11635', '11583', '11637', '8228', '6130', '4663', '8154', '6804', '5248', '11589', '9488', '9508', '4033', '3294', '11604', '8183', '8110', '1264', '4227', '11533', '4666', '7839', 'SF', 'DAL', '10937', 'NYJ']\n"
     ]
    }
   ],
   "source": [
    "if is_current_pick_mine(last_pick_no + 1, 2, 8):\n",
    "        drafted_player_ids = get_drafted_player_ids_2(draft_picks)\n",
    "        print(drafted_player_ids)\n",
    "        position_query = Q()\n",
    "        for position in required_positions:\n",
    "            position_query |= Q(fantasy_positions__contains=position)\n",
    "            \n",
    "        available_players_queryset = Player.objects \\\n",
    "                        .exclude(player_id__in=drafted_player_ids) \\\n",
    "                        .exclude(search_rank=None) \\\n",
    "                        .filter(active=True) \\\n",
    "                        .filter(position_query) \\\n",
    "                        .order_by('search_rank')[:50]\n",
    "        \n",
    "        # recommanded_player = ask_perplexity_for_draft_advice(available_players, needed_positions)"
   ]
  },
  {
   "cell_type": "code",
   "execution_count": 20,
   "id": "4887b5e6-0ee9-4c9d-9cd8-b4566b7d2633",
   "metadata": {},
   "outputs": [
    {
     "name": "stdout",
     "output_type": "stream",
     "text": [
      "[{'full_name': 'T.J. Hockenson', 'fantasy_positions': ['TE'], 'search_rank': 86, 'player_id': '5844'}, {'full_name': 'Antonio Brown', 'fantasy_positions': ['WR'], 'search_rank': 89, 'player_id': '536'}, {'full_name': 'Julian Edelman', 'fantasy_positions': ['WR'], 'search_rank': 92, 'player_id': '344'}, {'full_name': 'Christian Watson', 'fantasy_positions': ['WR'], 'search_rank': 101, 'player_id': '8167'}, {'full_name': 'Dallas Goedert', 'fantasy_positions': ['TE'], 'search_rank': 102, 'player_id': '5022'}, {'full_name': 'Brian Thomas', 'fantasy_positions': ['WR'], 'search_rank': 105, 'player_id': '11631'}, {'full_name': 'Dalton Schultz', 'fantasy_positions': ['TE'], 'search_rank': 107, 'player_id': '5001'}, {'full_name': 'Jameson Williams', 'fantasy_positions': ['WR'], 'search_rank': 111, 'player_id': '8148'}, {'full_name': 'Courtland Sutton', 'fantasy_positions': ['WR'], 'search_rank': 114, 'player_id': '5045'}, {'full_name': 'Curtis Samuel', 'fantasy_positions': ['WR'], 'search_rank': 117, 'player_id': '4082'}, {'full_name': 'Rob Gronkowski', 'fantasy_positions': ['TE'], 'search_rank': 118, 'player_id': '515'}, {'full_name': 'William Fuller', 'fantasy_positions': ['WR'], 'search_rank': 119, 'player_id': '3157'}, {'full_name': 'Romeo Doubs', 'fantasy_positions': ['WR'], 'search_rank': 119, 'player_id': '8121'}, {'full_name': 'Cole Kmet', 'fantasy_positions': ['TE'], 'search_rank': 122, 'player_id': '6826'}, {'full_name': 'Tyler Lockett', 'fantasy_positions': ['WR'], 'search_rank': 123, 'player_id': '2374'}, {'full_name': 'Henry Ruggs', 'fantasy_positions': ['WR'], 'search_rank': 124, 'player_id': '6789'}, {'full_name': 'Pat Freiermuth', 'fantasy_positions': ['TE'], 'search_rank': 125, 'player_id': '7600'}, {'full_name': 'Adonai Mitchell', 'fantasy_positions': ['WR'], 'search_rank': 125, 'player_id': '11625'}, {'full_name': 'Khalil Shakir', 'fantasy_positions': ['WR'], 'search_rank': 126, 'player_id': '8134'}, {'full_name': 'Jakobi Meyers', 'fantasy_positions': ['WR'], 'search_rank': 145, 'player_id': '5947'}, {'full_name': 'Joshua Palmer', 'fantasy_positions': ['WR'], 'search_rank': 145, 'player_id': '7670'}, {'full_name': 'Mike Williams', 'fantasy_positions': ['WR'], 'search_rank': 147, 'player_id': '4068'}, {'full_name': 'Xavier Legette', 'fantasy_positions': ['WR'], 'search_rank': 147, 'player_id': '11626'}, {'full_name': 'Jerry Jeudy', 'fantasy_positions': ['WR'], 'search_rank': 149, 'player_id': '6783'}, {'full_name': 'Rashid Shaheed', 'fantasy_positions': ['WR'], 'search_rank': 152, 'player_id': '8676'}, {'full_name': 'Luke Musgrave', 'fantasy_positions': ['TE'], 'search_rank': 154, 'player_id': '9481'}, {'full_name': 'Ricky Pearsall', 'fantasy_positions': ['WR'], 'search_rank': 157, 'player_id': '11638'}, {'full_name': 'Gabe Davis', 'fantasy_positions': ['WR'], 'search_rank': 158, 'player_id': '6943'}, {'full_name': 'Brandin Cooks', 'fantasy_positions': ['WR'], 'search_rank': 159, 'player_id': '2197'}, {'full_name': 'Jake Elliott', 'fantasy_positions': ['K'], 'search_rank': 160, 'player_id': '4195'}, {'full_name': 'Alshon Jeffery', 'fantasy_positions': ['WR'], 'search_rank': 161, 'player_id': '1149'}, {'full_name': 'Cameron Dicker', 'fantasy_positions': ['K'], 'search_rank': 164, 'player_id': '8259'}, {'full_name': \"Ka'imi Fairbairn\", 'fantasy_positions': ['K'], 'search_rank': 164, 'player_id': '3451'}, {'full_name': 'Larry Fitzgerald', 'fantasy_positions': ['WR'], 'search_rank': 165, 'player_id': '223'}, {'full_name': 'Tyler Bass', 'fantasy_positions': ['K'], 'search_rank': 165, 'player_id': '7042'}, {'full_name': \"Ja'Lynn Polk\", 'fantasy_positions': ['WR'], 'search_rank': 166, 'player_id': '11619'}, {'full_name': 'Taysom Hill', 'fantasy_positions': ['QB', 'TE'], 'search_rank': 168, 'player_id': '4381'}, {'full_name': 'Dan Bailey', 'fantasy_positions': ['K'], 'search_rank': 169, 'player_id': '899'}, {'full_name': 'Jahan Dotson', 'fantasy_positions': ['WR'], 'search_rank': 170, 'player_id': '8119'}, {'full_name': 'Dontayvion Wicks', 'fantasy_positions': ['WR'], 'search_rank': 170, 'player_id': '9486'}, {'full_name': 'Ben Sinnott', 'fantasy_positions': ['TE'], 'search_rank': 171, 'player_id': '11596'}, {'full_name': 'Troy Franklin', 'fantasy_positions': ['WR'], 'search_rank': 171, 'player_id': '11627'}, {'full_name': 'Stephen Gostkowski', 'fantasy_positions': ['K'], 'search_rank': 172, 'player_id': '110'}, {'full_name': 'Adam Thielen', 'fantasy_positions': ['WR'], 'search_rank': 173, 'player_id': '1689'}, {'full_name': 'Josh Downs', 'fantasy_positions': ['WR'], 'search_rank': 173, 'player_id': '9500'}, {'full_name': 'Cade Otton', 'fantasy_positions': ['TE'], 'search_rank': 174, 'player_id': '8111'}, {'full_name': 'Isaiah Likely', 'fantasy_positions': ['TE'], 'search_rank': 181, 'player_id': '8131'}, {'full_name': 'Darnell Mooney', 'fantasy_positions': ['WR'], 'search_rank': 182, 'player_id': '7090'}, {'full_name': 'Hunter Henry', 'fantasy_positions': ['TE'], 'search_rank': 188, 'player_id': '3214'}, {'full_name': 'Jason Sanders', 'fantasy_positions': ['K'], 'search_rank': 189, 'player_id': '5119'}]\n"
     ]
    }
   ],
   "source": [
    "        available_players = list(available_players_queryset.values('full_name', 'fantasy_positions', 'search_rank', 'player_id'))\n",
    "        \n",
    "        # If fantasy_positions is stored as a string, split it into a list\n",
    "        for player in available_players:\n",
    "            if isinstance(player['fantasy_positions'], str):\n",
    "                player['fantasy_positions'] = player['fantasy_positions'].split(',')\n",
    "        print(available_players)"
   ]
  },
  {
   "cell_type": "code",
   "execution_count": 21,
   "id": "3b1b2eb2-fa60-451f-a7bf-72e487afd496",
   "metadata": {},
   "outputs": [
    {
     "name": "stdout",
     "output_type": "stream",
     "text": [
      "{\"id\":\"8e643cf8-0961-44de-9f74-0f82d5b5fcb9\",\"choices\":[{\"finish_reason\":\"stop\",\"index\":0,\"logprobs\":null,\"message\":{\"content\":\"Given your team needs and the available players, I recommend drafting **Courtland Sutton (WR) - Rank: 114, ID: 5045**. Sutton is a high-ranked wide receiver who can fill one of your remaining positions.\",\"refusal\":null,\"role\":\"assistant\",\"function_call\":null,\"tool_calls\":null},\"delta\":{\"role\":\"assistant\",\"content\":\"\"}}],\"created\":1724601056,\"model\":\"llama-3-sonar-large-32k-online\",\"object\":\"chat.completion\",\"service_tier\":null,\"system_fingerprint\":null,\"usage\":{\"completion_tokens\":48,\"prompt_tokens\":999,\"total_tokens\":1047}}\n"
     ]
    }
   ],
   "source": [
    "        recommanded_player = ask_perplexity_for_draft_advice(available_players, needed_positions)\n",
    "        print(recommanded_player)"
   ]
  },
  {
   "cell_type": "code",
   "execution_count": 22,
   "id": "09187979-75f5-4a5c-9718-c838a950e41b",
   "metadata": {},
   "outputs": [
    {
     "data": {
      "text/plain": [
       "<Player: courtlandsutton>"
      ]
     },
     "execution_count": 22,
     "metadata": {},
     "output_type": "execute_result"
    }
   ],
   "source": [
    "Player.objects.get(player_id='5045')"
   ]
  },
  {
   "cell_type": "code",
   "execution_count": null,
   "id": "3b075309-da72-4890-bddd-901a99e890ee",
   "metadata": {},
   "outputs": [],
   "source": []
  }
 ],
 "metadata": {
  "kernelspec": {
   "display_name": "Python 3 (ipykernel)",
   "language": "python",
   "name": "python3"
  },
  "language_info": {
   "codemirror_mode": {
    "name": "ipython",
    "version": 3
   },
   "file_extension": ".py",
   "mimetype": "text/x-python",
   "name": "python",
   "nbconvert_exporter": "python",
   "pygments_lexer": "ipython3",
   "version": "3.12.1"
  }
 },
 "nbformat": 4,
 "nbformat_minor": 5
}
