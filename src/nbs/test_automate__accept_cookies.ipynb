{
 "cells": [
  {
   "cell_type": "code",
   "execution_count": 1,
   "id": "98b53380-d3f4-456a-9d20-8a0204400af7",
   "metadata": {},
   "outputs": [],
   "source": [
    "import setup"
   ]
  },
  {
   "cell_type": "code",
   "execution_count": 2,
   "id": "26f4c0e2-8602-4bed-9d97-bd762b54851e",
   "metadata": {},
   "outputs": [
    {
     "name": "stdout",
     "output_type": "stream",
     "text": [
      "/Users/simon/Projects/sleeper-ff-perplexity/src\n"
     ]
    }
   ],
   "source": [
    "setup.init_django(project_name='app')"
   ]
  },
  {
   "cell_type": "code",
   "execution_count": 3,
   "id": "bea1e429-7ba9-425a-9e9f-96590b3ab4fe",
   "metadata": {},
   "outputs": [],
   "source": [
    "from services.sleeper.automation import SleeperAutomationBot"
   ]
  },
  {
   "cell_type": "code",
   "execution_count": 4,
   "id": "3bca45a9-6216-4e03-84fb-c10accb37edf",
   "metadata": {},
   "outputs": [],
   "source": [
    "sleeper_automator = SleeperAutomationBot()"
   ]
  },
  {
   "cell_type": "code",
   "execution_count": 5,
   "id": "5c8fa825-6857-452d-bd26-801a82ce5970",
   "metadata": {},
   "outputs": [],
   "source": [
    "sleeper_automator._nav_to('https://sleeper.com/login')"
   ]
  },
  {
   "cell_type": "code",
   "execution_count": 6,
   "id": "13a3207f-b3e7-467d-8c3a-106511079c12",
   "metadata": {},
   "outputs": [],
   "source": [
    "is_accepted = sleeper_automator._accept_cookies()"
   ]
  }
 ],
 "metadata": {
  "kernelspec": {
   "display_name": "Python 3 (ipykernel)",
   "language": "python",
   "name": "python3"
  },
  "language_info": {
   "codemirror_mode": {
    "name": "ipython",
    "version": 3
   },
   "file_extension": ".py",
   "mimetype": "text/x-python",
   "name": "python",
   "nbconvert_exporter": "python",
   "pygments_lexer": "ipython3",
   "version": "3.12.1"
  }
 },
 "nbformat": 4,
 "nbformat_minor": 5
}
