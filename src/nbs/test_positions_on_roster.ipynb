{
 "cells": [
  {
   "cell_type": "code",
   "execution_count": 13,
   "id": "47ecea20-6fad-4d37-bea0-6390489a8fbd",
   "metadata": {},
   "outputs": [],
   "source": [
    "import setup"
   ]
  },
  {
   "cell_type": "code",
   "execution_count": 14,
   "id": "e0c87f95-77fc-425c-8bc9-7de4ad192e1f",
   "metadata": {},
   "outputs": [],
   "source": [
    "import json"
   ]
  },
  {
   "cell_type": "code",
   "execution_count": 15,
   "id": "945875e5-f26b-470e-834f-8ee579b59003",
   "metadata": {},
   "outputs": [],
   "source": [
    "import requests"
   ]
  },
  {
   "cell_type": "code",
   "execution_count": 16,
   "id": "f74802a2-c698-4fc6-b7e5-02edd07877ed",
   "metadata": {},
   "outputs": [],
   "source": [
    "setup.init_django(project_name='app')"
   ]
  },
  {
   "cell_type": "code",
   "execution_count": 17,
   "id": "6f18b25d-37de-4bb5-a8cf-a5c6ec169adb",
   "metadata": {},
   "outputs": [],
   "source": [
    "from services.sleeper.utils import positions_on_roster"
   ]
  },
  {
   "cell_type": "code",
   "execution_count": 18,
   "id": "acecefe8-f582-41bd-9501-14da377b66ad",
   "metadata": {},
   "outputs": [],
   "source": [
    "SLEEPER_API_BASE_URL = 'https://api.sleeper.app/v1'"
   ]
  },
  {
   "cell_type": "code",
   "execution_count": 19,
   "id": "a6b8b703-7af1-41ae-9ec7-a17810d6b09a",
   "metadata": {},
   "outputs": [],
   "source": [
    "DRAFT_ID = ''"
   ]
  },
  {
   "cell_type": "code",
   "execution_count": 20,
   "id": "e1bb8d2f-748d-4e54-b550-94c0d9446ae9",
   "metadata": {},
   "outputs": [],
   "source": [
    "def fetch_data(endpoint, **kwargs):\n",
    "    url = f\"{SLEEPER_API_BASE_URL}{endpoint.format(**kwargs)}\"\n",
    "    response = requests.get(url)\n",
    "    response.raise_for_status()\n",
    "    return response.json()"
   ]
  },
  {
   "cell_type": "code",
   "execution_count": 21,
   "id": "1c8644cf-ee66-4ad9-b008-4ac091375624",
   "metadata": {},
   "outputs": [],
   "source": [
    "def get_draft_picks():\n",
    "    return fetch_data(\"/draft/{draft_id}/picks\", draft_id=DRAFT_ID)"
   ]
  },
  {
   "cell_type": "code",
   "execution_count": 22,
   "id": "7c6d375a-dfb5-47bd-aca0-9f5b07f43396",
   "metadata": {},
   "outputs": [],
   "source": [
    "draft_picks = get_draft_picks()"
   ]
  },
  {
   "cell_type": "code",
   "execution_count": 23,
   "id": "47b1d258-bd47-4825-b68b-7a927a7b9549",
   "metadata": {},
   "outputs": [],
   "source": [
    "positions = positions_on_roster(draft_picks)"
   ]
  },
  {
   "cell_type": "code",
   "execution_count": 24,
   "id": "eb94bfaa-9422-4256-b066-694d1d378efa",
   "metadata": {},
   "outputs": [
    {
     "name": "stdout",
     "output_type": "stream",
     "text": [
      "['RB', 'RB', 'WR', 'QB']\n"
     ]
    }
   ],
   "source": [
    "print(positions)"
   ]
  },
  {
   "cell_type": "code",
   "execution_count": null,
   "id": "bb72868b-c765-41d8-8f12-18b34187d5b4",
   "metadata": {},
   "outputs": [],
   "source": []
  }
 ],
 "metadata": {
  "kernelspec": {
   "display_name": "Python 3 (ipykernel)",
   "language": "python",
   "name": "python3"
  },
  "language_info": {
   "codemirror_mode": {
    "name": "ipython",
    "version": 3
   },
   "file_extension": ".py",
   "mimetype": "text/x-python",
   "name": "python",
   "nbconvert_exporter": "python",
   "pygments_lexer": "ipython3",
   "version": "3.12.1"
  }
 },
 "nbformat": 4,
 "nbformat_minor": 5
}
