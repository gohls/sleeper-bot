{
 "cells": [
  {
   "cell_type": "code",
   "execution_count": 12,
   "id": "97a31911-6690-4fdc-84ea-c7c3920e2510",
   "metadata": {},
   "outputs": [],
   "source": [
    "import setup"
   ]
  },
  {
   "cell_type": "code",
   "execution_count": 13,
   "id": "088f94a7-b43e-468d-b264-2209f631a613",
   "metadata": {},
   "outputs": [],
   "source": [
    "import json"
   ]
  },
  {
   "cell_type": "code",
   "execution_count": 14,
   "id": "d8f620f6-93c3-4af7-bc92-16c21c927aa1",
   "metadata": {},
   "outputs": [],
   "source": [
    "import requests"
   ]
  },
  {
   "cell_type": "code",
   "execution_count": 15,
   "id": "6e519170-856a-428c-8227-cadcd2052f91",
   "metadata": {},
   "outputs": [],
   "source": [
    "setup.init_django(project_name='app')"
   ]
  },
  {
   "cell_type": "code",
   "execution_count": 16,
   "id": "34b6f122-e93a-429e-ab50-0e9b1cbd8510",
   "metadata": {},
   "outputs": [],
   "source": [
    "from services.sleeper.utils import get_drafted_player_ids"
   ]
  },
  {
   "cell_type": "code",
   "execution_count": 17,
   "id": "1afd29a9-f720-4d2b-a078-197200f37e32",
   "metadata": {},
   "outputs": [],
   "source": [
    "from services.sleeper.client import get_nfl_players"
   ]
  },
  {
   "cell_type": "code",
   "execution_count": 18,
   "id": "150c540a-9e98-4475-bc92-aa51d1fb8ca2",
   "metadata": {},
   "outputs": [
    {
     "ename": "AttributeError",
     "evalue": "module 'datetime' has no attribute 'now'",
     "output_type": "error",
     "traceback": [
      "\u001b[0;31m---------------------------------------------------------------------------\u001b[0m",
      "\u001b[0;31mAttributeError\u001b[0m                            Traceback (most recent call last)",
      "Cell \u001b[0;32mIn[18], line 1\u001b[0m\n\u001b[0;32m----> 1\u001b[0m players_data \u001b[38;5;241m=\u001b[39m \u001b[43mget_nfl_players\u001b[49m\u001b[43m(\u001b[49m\u001b[43m)\u001b[49m\n",
      "File \u001b[0;32m~/Projects/sleeper-ff-perplexity/src/services/sleeper/client.py:32\u001b[0m, in \u001b[0;36mget_nfl_players\u001b[0;34m()\u001b[0m\n\u001b[1;32m     27\u001b[0m \u001b[38;5;250m\u001b[39m\u001b[38;5;124;03m'''\u001b[39;00m\n\u001b[1;32m     28\u001b[0m \u001b[38;5;124;03mUse this call sparingly, as it is intended only to be used once per day\u001b[39;00m\n\u001b[1;32m     29\u001b[0m \u001b[38;5;124;03mat most to keep your player IDs updated. The average size of this query is 5MB.\u001b[39;00m\n\u001b[1;32m     30\u001b[0m \u001b[38;5;124;03m'''\u001b[39;00m\n\u001b[1;32m     31\u001b[0m last_call \u001b[38;5;241m=\u001b[39m local_storage\u001b[38;5;241m.\u001b[39mload(TIMESTAMP_CALL_KEY)\n\u001b[0;32m---> 32\u001b[0m now \u001b[38;5;241m=\u001b[39m \u001b[43mdatetime\u001b[49m\u001b[38;5;241;43m.\u001b[39;49m\u001b[43mnow\u001b[49m()\n\u001b[1;32m     34\u001b[0m \u001b[38;5;66;03m# If last call was on the same day, don't make a new call\u001b[39;00m\n\u001b[1;32m     35\u001b[0m \u001b[38;5;28;01mif\u001b[39;00m last_call \u001b[38;5;129;01mand\u001b[39;00m last_call\u001b[38;5;241m.\u001b[39mdate() \u001b[38;5;241m==\u001b[39m now\u001b[38;5;241m.\u001b[39mdate():\n",
      "\u001b[0;31mAttributeError\u001b[0m: module 'datetime' has no attribute 'now'"
     ]
    }
   ],
   "source": [
    "players_data = get_nfl_players()"
   ]
  },
  {
   "cell_type": "code",
   "execution_count": 8,
   "id": "739e4b3c-c755-49e5-8e60-1fd086ed9d0a",
   "metadata": {},
   "outputs": [],
   "source": [
    "print(player_data)"
   ]
  }
 ],
 "metadata": {
  "kernelspec": {
   "display_name": "Python 3 (ipykernel)",
   "language": "python",
   "name": "python3"
  },
  "language_info": {
   "codemirror_mode": {
    "name": "ipython",
    "version": 3
   },
   "file_extension": ".py",
   "mimetype": "text/x-python",
   "name": "python",
   "nbconvert_exporter": "python",
   "pygments_lexer": "ipython3",
   "version": "3.12.1"
  }
 },
 "nbformat": 4,
 "nbformat_minor": 5
}
