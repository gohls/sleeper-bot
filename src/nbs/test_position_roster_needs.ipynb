{
 "cells": [
  {
   "cell_type": "code",
   "execution_count": 1,
   "id": "4b69d001-9a38-4cc9-adb8-d9b30228ec45",
   "metadata": {},
   "outputs": [],
   "source": [
    "import setup"
   ]
  },
  {
   "cell_type": "code",
   "execution_count": 2,
   "id": "4086d3d4-d6e0-41a4-b2b8-5091b4fe259f",
   "metadata": {},
   "outputs": [],
   "source": [
    "import json"
   ]
  },
  {
   "cell_type": "code",
   "execution_count": 3,
   "id": "7f060413-9ae2-4045-b812-81b5fb5fd317",
   "metadata": {},
   "outputs": [],
   "source": [
    "import requests"
   ]
  },
  {
   "cell_type": "code",
   "execution_count": 4,
   "id": "36c9edda-a961-4f9c-bd60-410a09b0b12f",
   "metadata": {},
   "outputs": [],
   "source": [
    "setup.init_django(project_name='app')"
   ]
  },
  {
   "cell_type": "code",
   "execution_count": 5,
   "id": "682b813f-2907-4834-a263-69d48f160e96",
   "metadata": {},
   "outputs": [],
   "source": [
    "from services.sleeper.utils import positions_on_roster, position_roster_needs"
   ]
  },
  {
   "cell_type": "code",
   "execution_count": 6,
   "id": "011754e9-c6f0-4221-9db8-71f40feef643",
   "metadata": {},
   "outputs": [],
   "source": [
    "SLEEPER_API_BASE_URL = 'https://api.sleeper.app/v1'"
   ]
  },
  {
   "cell_type": "code",
   "execution_count": 7,
   "id": "883a6772-6e56-4f7c-8a16-030299bd04bd",
   "metadata": {},
   "outputs": [],
   "source": [
    "DRAFT_ID = ''"
   ]
  },
  {
   "cell_type": "code",
   "execution_count": 8,
   "id": "8c6a0e94-651a-41b2-a811-f0ebaee263ee",
   "metadata": {},
   "outputs": [],
   "source": [
    "def fetch_data(endpoint, **kwargs):\n",
    "    url = f\"{SLEEPER_API_BASE_URL}{endpoint.format(**kwargs)}\"\n",
    "    response = requests.get(url)\n",
    "    response.raise_for_status()\n",
    "    return response.json()"
   ]
  },
  {
   "cell_type": "code",
   "execution_count": 9,
   "id": "0354190a-e877-4e14-a578-112811e87b26",
   "metadata": {},
   "outputs": [],
   "source": [
    "def get_draft_picks():\n",
    "    return fetch_data(\"/draft/{draft_id}/picks\", draft_id=DRAFT_ID)"
   ]
  },
  {
   "cell_type": "code",
   "execution_count": 10,
   "id": "b9ae66f5-ee1e-4ea7-a910-245880088d4b",
   "metadata": {},
   "outputs": [],
   "source": [
    "draft_picks = get_draft_picks()"
   ]
  },
  {
   "cell_type": "code",
   "execution_count": 11,
   "id": "193fae16-12c5-4c67-b884-c4f8ad8a828e",
   "metadata": {},
   "outputs": [],
   "source": [
    "on_roster = positions_on_roster(draft_picks)\n",
    "needed_positions = position_roster_needs(on_roster)"
   ]
  },
  {
   "cell_type": "code",
   "execution_count": 12,
   "id": "89cdd2b6-db40-47e3-a0fe-8f6537777f77",
   "metadata": {},
   "outputs": [],
   "source": [
    "required_positions = set()\n",
    "for position in needed_positions:\n",
    "    if position == 'FLEX':\n",
    "        required_positions.update(['RB', 'WR', 'TE']) # This is wrong\n",
    "    elif position != 'BN':\n",
    "        required_positions.add(position)"
   ]
  },
  {
   "cell_type": "code",
   "execution_count": 13,
   "id": "ff412a35-e33d-4f18-9904-ff808e415d9c",
   "metadata": {},
   "outputs": [
    {
     "name": "stdout",
     "output_type": "stream",
     "text": [
      "{'K', 'WR', 'RB', 'TE', 'DEF'}\n"
     ]
    }
   ],
   "source": [
    "print(required_positions)"
   ]
  },
  {
   "cell_type": "code",
   "execution_count": null,
   "id": "51f6badf-a124-4bc8-8f78-f9a5995adf13",
   "metadata": {},
   "outputs": [],
   "source": []
  }
 ],
 "metadata": {
  "kernelspec": {
   "display_name": "Python 3 (ipykernel)",
   "language": "python",
   "name": "python3"
  },
  "language_info": {
   "codemirror_mode": {
    "name": "ipython",
    "version": 3
   },
   "file_extension": ".py",
   "mimetype": "text/x-python",
   "name": "python",
   "nbconvert_exporter": "python",
   "pygments_lexer": "ipython3",
   "version": "3.12.1"
  }
 },
 "nbformat": 4,
 "nbformat_minor": 5
}
