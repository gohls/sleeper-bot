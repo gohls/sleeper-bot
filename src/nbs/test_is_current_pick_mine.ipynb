{
 "cells": [
  {
   "cell_type": "code",
   "execution_count": 27,
   "id": "ab944dcf-cdab-4f93-a159-a8d5ed2971f4",
   "metadata": {},
   "outputs": [],
   "source": [
    "import setup"
   ]
  },
  {
   "cell_type": "code",
   "execution_count": 28,
   "id": "f6f79abc-4d19-414f-96de-2abc27f79db7",
   "metadata": {},
   "outputs": [],
   "source": [
    "import json"
   ]
  },
  {
   "cell_type": "code",
   "execution_count": 29,
   "id": "d7f7934e-9527-4a29-be2d-5fb1cc83ed2e",
   "metadata": {},
   "outputs": [],
   "source": [
    "import requests"
   ]
  },
  {
   "cell_type": "code",
   "execution_count": 30,
   "id": "4fab915b-2ab6-4a02-93a8-5985650d0ae8",
   "metadata": {},
   "outputs": [],
   "source": [
    "setup.init_django(project_name='app')"
   ]
  },
  {
   "cell_type": "code",
   "execution_count": 31,
   "id": "ed63ab63-dc3b-4b86-8319-73f54a012861",
   "metadata": {},
   "outputs": [],
   "source": [
    "from services.sleeper.utils import is_current_pick_mine"
   ]
  },
  {
   "cell_type": "code",
   "execution_count": 35,
   "id": "6e85e5dd-4e2d-4b5d-8df8-053e78f12787",
   "metadata": {},
   "outputs": [],
   "source": [
    "SLEEPER_API_BASE_URL = 'https://api.sleeper.app/v1'"
   ]
  },
  {
   "cell_type": "code",
   "execution_count": 36,
   "id": "31ca6021-3882-4aea-8150-b8a2731f01a2",
   "metadata": {},
   "outputs": [],
   "source": [
    "DRAFT_ID = '1131623077649801216'"
   ]
  },
  {
   "cell_type": "code",
   "execution_count": 37,
   "id": "d697e47f-287a-4e6d-a11d-d882db68d3ed",
   "metadata": {},
   "outputs": [],
   "source": [
    "def fetch_data(endpoint, **kwargs):\n",
    "    url = f\"{SLEEPER_API_BASE_URL}{endpoint.format(**kwargs)}\"\n",
    "    response = requests.get(url)\n",
    "    response.raise_for_status()\n",
    "    return response.json()"
   ]
  },
  {
   "cell_type": "code",
   "execution_count": 38,
   "id": "92ff7e05-894f-4ea7-b7d1-7683cdfe15c0",
   "metadata": {},
   "outputs": [],
   "source": [
    "def get_draft_picks():\n",
    "    return fetch_data(\"/draft/{draft_id}/picks\", draft_id=DRAFT_ID)"
   ]
  },
  {
   "cell_type": "code",
   "execution_count": 39,
   "id": "884b7e98-89f3-4af1-88d8-ec2b4a6b7bad",
   "metadata": {},
   "outputs": [],
   "source": [
    "draft_picks = get_draft_picks()"
   ]
  },
  {
   "cell_type": "code",
   "execution_count": 40,
   "id": "c9e32b2e-efcb-442c-840a-a78aca1ad694",
   "metadata": {},
   "outputs": [],
   "source": [
    "last_pick_no = max(pick['pick_no'] for pick in draft_picks) if draft_picks else 0"
   ]
  },
  {
   "cell_type": "code",
   "execution_count": 42,
   "id": "8457728a-605d-482d-943e-dc646cdc6f9a",
   "metadata": {},
   "outputs": [
    {
     "name": "stdout",
     "output_type": "stream",
     "text": [
      "True\n"
     ]
    }
   ],
   "source": [
    "print(is_current_pick_mine(last_pick_no + 1, 2, 8))"
   ]
  },
  {
   "cell_type": "code",
   "execution_count": null,
   "id": "2592ecc0-def7-4218-aef1-b636fe418e85",
   "metadata": {},
   "outputs": [],
   "source": []
  }
 ],
 "metadata": {
  "kernelspec": {
   "display_name": "Python 3 (ipykernel)",
   "language": "python",
   "name": "python3"
  },
  "language_info": {
   "codemirror_mode": {
    "name": "ipython",
    "version": 3
   },
   "file_extension": ".py",
   "mimetype": "text/x-python",
   "name": "python",
   "nbconvert_exporter": "python",
   "pygments_lexer": "ipython3",
   "version": "3.12.1"
  }
 },
 "nbformat": 4,
 "nbformat_minor": 5
}
