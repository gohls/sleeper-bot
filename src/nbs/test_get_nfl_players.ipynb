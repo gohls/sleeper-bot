{
 "cells": [
  {
   "cell_type": "code",
   "execution_count": 1,
   "id": "ebc19be1-b6c7-4959-b081-ab7e6d1e8c4f",
   "metadata": {},
   "outputs": [],
   "source": [
    "import setup"
   ]
  },
  {
   "cell_type": "code",
   "execution_count": 2,
   "id": "08442934-1a37-4ef1-a2a4-706eaf2ef654",
   "metadata": {},
   "outputs": [],
   "source": [
    "import json"
   ]
  },
  {
   "cell_type": "code",
   "execution_count": 3,
   "id": "b97e769f-389a-47b5-928e-25da9d98a8af",
   "metadata": {},
   "outputs": [],
   "source": [
    "import requests"
   ]
  },
  {
   "cell_type": "code",
   "execution_count": 4,
   "id": "f600a78a-c7e1-4c05-af1a-f35132395fe3",
   "metadata": {},
   "outputs": [],
   "source": [
    "setup.init_django(project_name='app')"
   ]
  },
  {
   "cell_type": "code",
   "execution_count": 5,
   "id": "d56729b5-efbe-4a7f-91cc-8bdd2dde300b",
   "metadata": {},
   "outputs": [],
   "source": [
    "from services.sleeper.client import get_nfl_players"
   ]
  },
  {
   "cell_type": "code",
   "execution_count": 6,
   "id": "49019007-5bf8-4cf5-9d6d-1c2227159b8e",
   "metadata": {},
   "outputs": [],
   "source": [
    "player_data = get_nfl_players()"
   ]
  },
  {
   "cell_type": "code",
   "execution_count": 7,
   "id": "df1afff0-9710-4552-b66c-ee2bffbbc9de",
   "metadata": {},
   "outputs": [
    {
     "name": "stderr",
     "output_type": "stream",
     "text": [
      "IOPub data rate exceeded.\n",
      "The Jupyter server will temporarily stop sending output\n",
      "to the client in order to avoid crashing it.\n",
      "To change this limit, set the config variable\n",
      "`--ServerApp.iopub_data_rate_limit`.\n",
      "\n",
      "Current values:\n",
      "ServerApp.iopub_data_rate_limit=1000000.0 (bytes/sec)\n",
      "ServerApp.rate_limit_window=3.0 (secs)\n",
      "\n"
     ]
    }
   ],
   "source": [
    "print(player_data)"
   ]
  },
  {
   "cell_type": "code",
   "execution_count": 8,
   "id": "89cf263d-de5e-4e85-ae3a-cac584f7a74f",
   "metadata": {},
   "outputs": [],
   "source": [
    "from sleeper_bot.models import Player"
   ]
  },
  {
   "cell_type": "code",
   "execution_count": 9,
   "id": "fa43a655-c368-4f95-9178-dd979c8b3f52",
   "metadata": {},
   "outputs": [],
   "source": [
    "available_players = Player.objects \\\n",
    "                        .filter(active=True) \\\n",
    "                        .order_by('search_rank')[:10]"
   ]
  },
  {
   "cell_type": "code",
   "execution_count": 10,
   "id": "b2c49f79-e821-4d53-8aea-9ef55e1de6fb",
   "metadata": {},
   "outputs": [
    {
     "name": "stdout",
     "output_type": "stream",
     "text": [
      "<QuerySet [<Player: mattseybert>, <Player: coreystraughter>, <Player: christianuphoff>, <Player: emmanuelrugamba>, <Player: leightonmccarthy>, <Player: jamienewman>, <Player: dariusclark>, <Player: lawrencewhite>, <Player: decorianclark>, <Player: kennyrandall>]>\n"
     ]
    }
   ],
   "source": [
    "print(available_players)"
   ]
  },
  {
   "cell_type": "code",
   "execution_count": null,
   "id": "be9c4cac-dba2-4c93-a5dc-4689d7af4411",
   "metadata": {},
   "outputs": [],
   "source": []
  }
 ],
 "metadata": {
  "kernelspec": {
   "display_name": "Python 3 (ipykernel)",
   "language": "python",
   "name": "python3"
  },
  "language_info": {
   "codemirror_mode": {
    "name": "ipython",
    "version": 3
   },
   "file_extension": ".py",
   "mimetype": "text/x-python",
   "name": "python",
   "nbconvert_exporter": "python",
   "pygments_lexer": "ipython3",
   "version": "3.12.1"
  }
 },
 "nbformat": 4,
 "nbformat_minor": 5
}
