{
 "cells": [
  {
   "cell_type": "code",
   "execution_count": 37,
   "id": "41237532-8508-494e-904d-40b3205422d5",
   "metadata": {},
   "outputs": [],
   "source": [
    "import setup"
   ]
  },
  {
   "cell_type": "code",
   "execution_count": 38,
   "id": "27958016-1b5d-4b9b-830a-898c6c083595",
   "metadata": {},
   "outputs": [],
   "source": [
    "import json"
   ]
  },
  {
   "cell_type": "code",
   "execution_count": 39,
   "id": "f27411d8-0733-4986-b834-f221f40974e0",
   "metadata": {},
   "outputs": [],
   "source": [
    "import requests"
   ]
  },
  {
   "cell_type": "code",
   "execution_count": 40,
   "id": "6a5a8472-4dac-4156-b183-f4658c1a631a",
   "metadata": {},
   "outputs": [],
   "source": [
    "setup.init_django(project_name='app')"
   ]
  },
  {
   "cell_type": "code",
   "execution_count": 41,
   "id": "d704946f-4861-4ab7-9dec-ba40dc962bbe",
   "metadata": {},
   "outputs": [],
   "source": [
    "from services.sleeper.utils import has_picks_remaining"
   ]
  },
  {
   "cell_type": "code",
   "execution_count": 42,
   "id": "4b6aa37c-285d-40b2-95c8-71b48955ab6a",
   "metadata": {},
   "outputs": [],
   "source": [
    "SLEEPER_API_BASE_URL = 'https://api.sleeper.app/v1'"
   ]
  },
  {
   "cell_type": "code",
   "execution_count": 43,
   "id": "7738c520-326c-4292-8ca4-3e542cd0b68b",
   "metadata": {},
   "outputs": [],
   "source": [
    "DRAFT_ID = ''"
   ]
  },
  {
   "cell_type": "code",
   "execution_count": 44,
   "id": "18eab573-7231-45f0-a8ae-a71be28d6a21",
   "metadata": {},
   "outputs": [],
   "source": [
    "def fetch_data(endpoint, **kwargs):\n",
    "    url = f\"{SLEEPER_API_BASE_URL}{endpoint.format(**kwargs)}\"\n",
    "    response = requests.get(url)\n",
    "    response.raise_for_status()\n",
    "    return response.json()"
   ]
  },
  {
   "cell_type": "code",
   "execution_count": 45,
   "id": "420dd9f4-58a4-435c-b219-607fc84844eb",
   "metadata": {},
   "outputs": [],
   "source": [
    "def get_draft_picks():\n",
    "    return fetch_data(\"/draft/{draft_id}/picks\", draft_id=DRAFT_ID)"
   ]
  },
  {
   "cell_type": "code",
   "execution_count": 46,
   "id": "a952ef87-6bfb-473b-80c1-0ee3b517e831",
   "metadata": {},
   "outputs": [],
   "source": [
    "draft_picks = get_draft_picks()"
   ]
  },
  {
   "cell_type": "code",
   "execution_count": 47,
   "id": "b4367586-5b78-4772-bc74-ea1315f4420c",
   "metadata": {},
   "outputs": [],
   "source": [
    "last_pick_no = max(pick['pick_no'] for pick in draft_picks) if draft_picks else 0"
   ]
  },
  {
   "cell_type": "code",
   "execution_count": 48,
   "id": "e1c4c19f-be72-4276-ad38-93b0861d0652",
   "metadata": {},
   "outputs": [
    {
     "name": "stdout",
     "output_type": "stream",
     "text": [
      "False\n"
     ]
    }
   ],
   "source": [
    "print(has_picks_remaining(last_pick_no + 1, 2, 8))"
   ]
  },
  {
   "cell_type": "code",
   "execution_count": null,
   "id": "10368bda-fbd9-4420-8ff3-17ae0fc78f5e",
   "metadata": {},
   "outputs": [],
   "source": []
  }
 ],
 "metadata": {
  "kernelspec": {
   "display_name": "Python 3 (ipykernel)",
   "language": "python",
   "name": "python3"
  },
  "language_info": {
   "codemirror_mode": {
    "name": "ipython",
    "version": 3
   },
   "file_extension": ".py",
   "mimetype": "text/x-python",
   "name": "python",
   "nbconvert_exporter": "python",
   "pygments_lexer": "ipython3",
   "version": "3.12.1"
  }
 },
 "nbformat": 4,
 "nbformat_minor": 5
}
