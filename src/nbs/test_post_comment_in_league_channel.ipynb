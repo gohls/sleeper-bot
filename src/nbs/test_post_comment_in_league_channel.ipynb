{
 "cells": [
  {
   "cell_type": "code",
   "execution_count": 1,
   "id": "64334411-f818-45af-a261-18435a23dd10",
   "metadata": {},
   "outputs": [],
   "source": [
    "import setup"
   ]
  },
  {
   "cell_type": "code",
   "execution_count": null,
   "id": "5e3d7c1f-f6cb-457e-b72d-9ba5afe5fb76",
   "metadata": {},
   "outputs": [],
   "source": [
    "import os"
   ]
  },
  {
   "cell_type": "code",
   "execution_count": null,
   "id": "8430ead1-bb4e-4b26-8185-9c3574c04690",
   "metadata": {},
   "outputs": [],
   "source": [
    "from dotenv import load_dotenv"
   ]
  },
  {
   "cell_type": "code",
   "execution_count": 2,
   "id": "5b537d33-5152-4058-891e-2e621ab30733",
   "metadata": {},
   "outputs": [
    {
     "name": "stdout",
     "output_type": "stream",
     "text": [
      "/Users/simon/Projects/sleeper-ff-perplexity/src\n"
     ]
    }
   ],
   "source": [
    "setup.init_django(project_name='app')"
   ]
  },
  {
   "cell_type": "code",
   "execution_count": 3,
   "id": "c71d19fc-0559-42be-80f8-f71f575a2a82",
   "metadata": {},
   "outputs": [],
   "source": [
    "from services.sleeper.automation import SleeperAutomationBot"
   ]
  },
  {
   "cell_type": "code",
   "execution_count": null,
   "id": "2f54bd17-a225-4a69-9589-75733a83855c",
   "metadata": {},
   "outputs": [],
   "source": [
    "# Load the .env file\n",
    "load_dotenv()"
   ]
  },
  {
   "cell_type": "code",
   "execution_count": null,
   "id": "cc9c5828-e4db-4910-b381-1fefb5d96f03",
   "metadata": {},
   "outputs": [],
   "source": [
    "email = os.getenv(\"EMAIL\")"
   ]
  },
  {
   "cell_type": "code",
   "execution_count": null,
   "id": "ecc3a7a3-8126-4e23-91b0-f789254e5740",
   "metadata": {},
   "outputs": [],
   "source": [
    "password = os.getenv(\"PASSWORD\")"
   ]
  },
  {
   "cell_type": "code",
   "execution_count": null,
   "id": "beff25d0-8197-4cf7-a483-a3d247bbdcf4",
   "metadata": {},
   "outputs": [],
   "source": [
    "league_id = os.getenv(\"LEAGUE_ID\")"
   ]
  },
  {
   "cell_type": "code",
   "execution_count": 4,
   "id": "a833307d-40fd-428a-9f1c-1efb29afa33a",
   "metadata": {},
   "outputs": [],
   "source": [
    "sleeper_automator = SleeperAutomationBot()"
   ]
  },
  {
   "cell_type": "code",
   "execution_count": 5,
   "id": "b2ed2a93-ddc7-4588-a49f-ef93140336d4",
   "metadata": {},
   "outputs": [
    {
     "data": {
      "text/plain": [
       "True"
      ]
     },
     "execution_count": 5,
     "metadata": {},
     "output_type": "execute_result"
    }
   ],
   "source": [
    "sleeper_automator.login(email, password)"
   ]
  },
  {
   "cell_type": "code",
   "execution_count": 6,
   "id": "e4419157-a3fe-4925-955d-0b756c19f195",
   "metadata": {},
   "outputs": [
    {
     "data": {
      "text/plain": [
       "True"
      ]
     },
     "execution_count": 6,
     "metadata": {},
     "output_type": "execute_result"
    }
   ],
   "source": [
    "sleeper_automator.post_comment_to_league_chat(league_id, \"Hello humans\")"
   ]
  },
  {
   "cell_type": "code",
   "execution_count": 7,
   "id": "649f024d-601c-498d-b638-3fc25ef8f7b0",
   "metadata": {},
   "outputs": [
    {
     "ename": "AttributeError",
     "evalue": "'SleeperAutomationBot' object has no attribute 'close'",
     "output_type": "error",
     "traceback": [
      "\u001b[0;31m---------------------------------------------------------------------------\u001b[0m",
      "\u001b[0;31mAttributeError\u001b[0m                            Traceback (most recent call last)",
      "Cell \u001b[0;32mIn[7], line 1\u001b[0m\n\u001b[0;32m----> 1\u001b[0m \u001b[43msleeper_automator\u001b[49m\u001b[38;5;241;43m.\u001b[39;49m\u001b[43mclose\u001b[49m()\n",
      "\u001b[0;31mAttributeError\u001b[0m: 'SleeperAutomationBot' object has no attribute 'close'"
     ]
    }
   ],
   "source": [
    "sleeper_automator.close()"
   ]
  },
  {
   "cell_type": "code",
   "execution_count": null,
   "id": "b2d6d4b4-7f56-422f-ab47-3141ef25c77a",
   "metadata": {},
   "outputs": [],
   "source": []
  }
 ],
 "metadata": {
  "kernelspec": {
   "display_name": "Python 3 (ipykernel)",
   "language": "python",
   "name": "python3"
  },
  "language_info": {
   "codemirror_mode": {
    "name": "ipython",
    "version": 3
   },
   "file_extension": ".py",
   "mimetype": "text/x-python",
   "name": "python",
   "nbconvert_exporter": "python",
   "pygments_lexer": "ipython3",
   "version": "3.12.1"
  }
 },
 "nbformat": 4,
 "nbformat_minor": 5
}
